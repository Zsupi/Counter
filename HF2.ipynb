{
  "nbformat": 4,
  "nbformat_minor": 0,
  "metadata": {
    "colab": {
      "name": "HF2.ipynb",
      "provenance": [],
      "include_colab_link": true
    },
    "kernelspec": {
      "name": "python3",
      "display_name": "Python 3"
    },
    "accelerator": "GPU"
  },
  "cells": [
    {
      "cell_type": "markdown",
      "metadata": {
        "id": "view-in-github",
        "colab_type": "text"
      },
      "source": [
        "<a href=\"https://colab.research.google.com/github/Zsupi/Counter/blob/main/HF2.ipynb\" target=\"_parent\"><img src=\"https://colab.research.google.com/assets/colab-badge.svg\" alt=\"Open In Colab\"/></a>"
      ]
    },
    {
      "cell_type": "markdown",
      "metadata": {
        "id": "bgexO14zLS-J"
      },
      "source": [
        "#Deep Learning a Vizuális Informatikában\n",
        "##2. Házi Feladat\n",
        "\n",
        "###1. Rész\n",
        "\n",
        "Valósíts meg egy paraméterezhető konvolúciós neurális hálózatot, amely osztályozásra képes. A hálózat paraméterei a következők:\n",
        "\n",
        "\n",
        "*   nC: Az osztályok száma\n",
        "*   nFeat: Az első réteg kimeneti csatornaszáma. Az ezt követő rétegek be- és kimeneti csatornaszáma egyezzen ezzel meg, majd minden leskálázó (strided konvolúciós) réteg duplázza ezt meg.\n",
        "*   nLevels: A háló szintjeinek száma. Egy szintnek az azonos térbeli kiterjedésű tenzorokon operáló rétegeket nevezzük (2 leskálázás közt). (Tipp: használj adaptív poolingot az osztályozó réteg előtt, hogy a változó szint szám ne okozzon problémát.)\n",
        "*   layersPerLevel: Az egy szinten található konvolúciós rétegek száma.\n",
        "*   kernelSize: A konvolúciós rétegek mérete.\n",
        "*   nLinType: Kategorikus változó, amellyel a nemlinearitás típusát állíthatja (hogy hány és milyen függvények közül lehet választani önre van bízva)\n",
        "*   bNorm: Bináris változó, amellyel állítható, hogy a konvolúciós rétegekbe teszünk-e BatchNormot.\n",
        "*   residual: Bináris változó, True érték esetén minden szinten valósíts meg egy reziduális kapcsolatot a szint bemenete és a szint végén megjelenő leskálázó réteg bemenete közt.\n",
        "\n",
        "Tipp: Érdemes ehhez írni először két külön modult, ami egy réteget (batchnormmal, dropouttal és nemlinearitással) valósít meg és egyet, ami meg ezekből egy szintet legózik össze. Ezekből aránylag könnyen összelegózható a háló.\n",
        "\n",
        "Tipp 2: A PyTorchnak van nn.Sequential osztálya. Ez egy lista, amiben rétegek vannak, de ha sima lista változóba tesztek egyszerre több nn.Module-t, annak az optimizer nem fogja megkapni. Ez azért van, mert amikor egy nn.Module-tól leszármazó osztálytól elkéritek a .parameters()-t, akkor az végignézi az objektum összes tagváltozót, hogy van-e neki .parameters() függvénye (és ezt szépen rekurzívan végigcsinálja). A Listának pedig nincs, hiába vannak benne olyan elemek, amiknek van. Ezen felül az nn.Sequential forward függvénye is felül van csapva, és szépen sorban meghívja a belül lévő rétegeket.\n",
        "\n"
      ]
    },
    {
      "cell_type": "code",
      "metadata": {
        "id": "M-0HhmjRLRGv"
      },
      "source": [
        "import torch\n",
        "import torch.nn as nn\n",
        "\n",
        "class Layer(nn.Module):\n",
        "  def __init__(self, ich, och, ks, stride=1, padding=1, bNorm=True, nLinType='relu'):\n",
        "    super(Layer, self).__init__()\n",
        "    opt = []\n",
        "\n",
        "    c = nn.Conv2d(ich, och, ks, stride=stride, padding=ks//2)\n",
        "    opt.append(c)\n",
        "    if bNorm:\n",
        "      opt.append(nn.BatchNorm2d(och))\n",
        "    if nLinType == 'relu':\n",
        "      opt.append(nn.ReLU())\n",
        "    if nLinType == 'leakyrelu':\n",
        "      opt.append(nn.LeakyReLU(0.2))\n",
        "\n",
        "    self.opt = nn.Sequential(*opt)\n",
        "\n",
        "  def forward(self, x):\n",
        "    return self.opt(x)\n",
        "\n",
        "\n",
        "class Level(nn.Module):\n",
        "  def __init__(self, ch, nLevels, layersPerLevel, ks, bNorm=True, nLinType='relu', residual=False):\n",
        "    super(Level, self).__init__()\n",
        "    layers = []\n",
        "    for i in range(layersPerLevel):\n",
        "      layers.append(Layer(ch, ch, ks, bNorm=bNorm, nLinType=nLinType))\n",
        "\n",
        "    self.layers = nn.Sequential(*layers)\n",
        "\n",
        "    self.pooling = Layer(ch, ch*2, ks, bNorm=bNorm, nLinType=nLinType)\n",
        "    self.residual = residual\n",
        "\n",
        "  def forward(self, x):\n",
        "    result = self.layers(x)\n",
        "    return self.pooling(result)\n",
        "\n",
        "class Net(nn.Module):\n",
        "  def __init__(self, nC, nFeat, nLevels, layersPerLevel, ks, nLinType='relu', bNorm=True, ):\n",
        "    super(Net, self).__init__()\n",
        "    levels = []\n",
        "    self.zero = nn.Conv2d(3, nFeat, ks, stride=1, padding=ks//2)\n",
        "    for i in range(nLevels):\n",
        "      levels.append(Level(nFeat, 1, layersPerLevel, ks, bNorm, nLinType))\n",
        "      nFeat *= 2\n",
        "    self.levels = nn.Sequential(*levels)\n",
        "    self.avgpool = nn.AdaptiveAvgPool2d((1,1))\n",
        "    self.classifier = nn.Conv2d(nFeat, nC, 1)\n",
        "\n",
        "  def forward(self, x):\n",
        "    x = self.zero(x)\n",
        "    x = self.levels(x)\n",
        "    x = self.avgpool(x)\n",
        "    return torch.squeeze(self.classifier(x))\n"
      ],
      "execution_count": 75,
      "outputs": []
    },
    {
      "cell_type": "markdown",
      "source": [
        "## Generate Net"
      ],
      "metadata": {
        "id": "oTWtVAdNyI6m"
      }
    },
    {
      "cell_type": "code",
      "source": [
        "def net():\n",
        "  nC = 10\n",
        "  nFeat = 6\n",
        "  nLevels = 3\n",
        "  layersPerLevel = 2\n",
        "  kernelSize = 3\n",
        "  nLinType = 'relu'\n",
        "  bNorm = True\n",
        "\n",
        "  bSize = 32\n",
        "  lr = 0.001\n",
        "  lr_ratio = 0.1\n",
        "  numEpoch = 10\n",
        "  decay = 0.0001\n",
        "  return Net(nC, nFeat, nLevels, layersPerLevel, kernelSize, nLinType, bNorm)"
      ],
      "metadata": {
        "id": "jmz1J8mkyIhL"
      },
      "execution_count": 76,
      "outputs": []
    },
    {
      "cell_type": "markdown",
      "metadata": {
        "id": "fFVaU6FBTQ5W"
      },
      "source": [
        "###2. Rész\n",
        "\n",
        "Valósíts meg egy paraméterezhető neurális háló tanító függvényt.\n",
        "\n",
        "A függvény bemenetként megkapja a fenti neurális háló megkostruálásához szükséges paramétereket, az összes random seedet 42 értékre állítja, majd végrehajtja a neurális háló tanítását a kiadott adatbázison.\n",
        "\n",
        "Használj Adam optimizert és Cosine Annealing tanulási ráta ütemezőt.\n",
        "\n",
        "A tanítás során minden epoch után validálj, és jegyezd fel a legjobb validációs pontosságot, és a tanítás végén ezt add vissza.\n",
        "\n",
        "A függvénynek további bemeneti paraméterei:\n",
        "\n",
        "*   bSize: A bacth méret\n",
        "*   lr: a tanulási ráta\n",
        "*   lr_ratio: a tanulási ráta ütemező eta_min paramétere és a kezdeti tanulási ráta hányadosa\n",
        "*   numEpoch: az epochok száma\n",
        "*   decay: a weight_decay paraméter értéke\n",
        "\n"
      ]
    },
    {
      "cell_type": "code",
      "metadata": {
        "id": "wsZhpkP1UaV8"
      },
      "source": [
        "import torchvision\n",
        "import torchvision.transforms as transforms\n",
        "import torchvision.datasets as dset\n",
        "from torch.utils.data import DataLoader\n",
        "from PIL import Image\n",
        "import torch.optim as optim\n",
        "\n",
        "transform = transforms.Compose(\n",
        "    [\n",
        "        transforms.RandomCrop(32, padding = 4),\n",
        "        transforms.RandomHorizontalFlip(),\n",
        "        transforms.ColorJitter(0.25,0.25,0.2,0.1),\n",
        "        transforms.ToTensor(), #/255 toFloat()\n",
        "        transforms.transforms.Normalize(\n",
        "            [0.5,0.5,0.5],\n",
        "            [0.25,0.25,0.25]\n",
        "        )\n",
        "    ]\n",
        ")\n",
        "\n",
        "\n",
        "transform_val = transforms.Compose(\n",
        "    [\n",
        "        transforms.ToTensor(), #/255 toFloat()\n",
        "        transforms.transforms.Normalize(\n",
        "            [0.5,0.5,0.5],\n",
        "            [0.25,0.25,0.25]\n",
        "        )\n",
        "    ]\n",
        ")\n",
        "\n",
        "dataset = dset.ImageFolder(root=\"Small/Classification/train/\", transform=transform)\n",
        "dataset_val = dset.ImageFolder(root=\"Small/Classification/train/\", transform=transform_val)\n",
        "\n",
        "trainLoader = DataLoader(dataset, batch_size =128, shuffle = True, num_workers = 2)\n",
        "trainLoader_val = DataLoader(dataset_val, batch_size =128, shuffle = True, num_workers = 2)"
      ],
      "execution_count": 77,
      "outputs": []
    },
    {
      "cell_type": "markdown",
      "source": [
        "## Train"
      ],
      "metadata": {
        "id": "RPwtFW47xZ23"
      }
    },
    {
      "cell_type": "code",
      "source": [
        "def train(epoch, optimizer, net):\n",
        "\n",
        "  running_loss = 0.0\n",
        "  correct = 0.0\n",
        "  total = 0\n",
        "\n",
        "  # set the network to train (for batchnorm and dropout)\n",
        "  net.train()\n",
        "\n",
        "  # Create progress bar\n",
        "  bar = display(progress(0, len(dataset)), display_id=True)\n",
        "  criterion = nn.CrossEntropyLoss()\n",
        "\n",
        "  # Epoch loop\n",
        "  for i, data in enumerate(trainLoader, 0):\n",
        "    # get the inputs\n",
        "    inputs, labels = data\n",
        "\n",
        "    # zero the parameter gradients\n",
        "    optimizer.zero_grad()\n",
        "\n",
        "    # forward + backward + optimize\n",
        "    outputs = net(inputs)\n",
        "    loss = criterion(outputs, labels)\n",
        "    loss.backward()\n",
        "    optimizer.step()\n",
        "\n",
        "    # compute statistics\n",
        "    running_loss += loss.item()\n",
        "    _, predicted = torch.max(outputs, 1)\n",
        "    total += labels.size(0)\n",
        "    correct += (predicted == labels).sum().item()\n",
        "\n",
        "    # Update progress bar\n",
        "    bar.update(progress(i+1, len(trainLoader)))\n",
        "\n",
        "  # print and plot statistics\n",
        "  tr_loss = running_loss / len(trainLoader)\n",
        "  tr_corr = correct / total\n",
        "  print(\"Epoch [%d] Training Loss: %.4f Training Pixel Acc: %.2f\" % (epoch+1, tr_loss, tr_corr))\n",
        "\n",
        "  return tr_loss,tr_corr"
      ],
      "metadata": {
        "id": "bv2c9Z6-xY82"
      },
      "execution_count": 82,
      "outputs": []
    },
    {
      "cell_type": "markdown",
      "source": [
        "## Validate"
      ],
      "metadata": {
        "id": "Sjqebej1xcuC"
      }
    },
    {
      "cell_type": "code",
      "source": [
        "def val(epoch, numClass, optimizer, net):\n",
        "\n",
        "  # variables for loss\n",
        "  running_loss = 0.0\n",
        "  correct = 0.0\n",
        "  total = 0\n",
        "\n",
        "  # IoU computation\n",
        "  conf = torch.zeros(numClass,numClass)\n",
        "  IoU = torch.zeros(numClass)\n",
        "  labCnts = torch.zeros(numClass)\n",
        "  criterion = nn.CrossEntropyLoss()\n",
        "\n",
        "  # set the network to eval (for batchnorm and dropout)\n",
        "  net.eval()\n",
        "\n",
        "  # Create progress bar\n",
        "  bar = display(progress(0, len(trainLoader_val)), display_id=True)\n",
        "\n",
        "  # Epoch loop\n",
        "  for i, data in enumerate(trainLoader_val, 0):\n",
        "    # get the inputs\n",
        "    inputs, labels = data\n",
        "\n",
        "    # forward\n",
        "    outputs = net(inputs)\n",
        "    loss = criterion(outputs, labels)\n",
        "\n",
        "    _, predicted = torch.max(outputs.data, 1)\n",
        "    total += labels.size(0)\n",
        "    correct += (predicted == labels).sum().item()\n",
        "    running_loss += loss.cpu().item()\n",
        "\n",
        "\n",
        "    tr_loss = running_loss / len(trainLoader_val)\n",
        "    tr_acc = correct/total*100\n",
        "\n",
        "    return tr_loss, tr_acc"
      ],
      "metadata": {
        "id": "-mHoLHDsxUfY"
      },
      "execution_count": 83,
      "outputs": []
    },
    {
      "cell_type": "markdown",
      "source": [
        "## Epoch"
      ],
      "metadata": {
        "id": "FDkPr5nwzffp"
      }
    },
    {
      "cell_type": "code",
      "source": [
        "\n",
        "import torch.optim as optim\n",
        "from torch.optim import lr_scheduler\n",
        "from torch.optim.lr_scheduler import CosineAnnealingLR\n",
        "\n",
        "%matplotlib inline\n",
        "import matplotlib\n",
        "import matplotlib.pyplot as plt\n",
        "\n",
        "def train_neural_network(nC, nFeat, nLevels, layersPerLevel, kernelSize, nLinType, bNorm, bSize, lr, lr_ratio, numEpoch,  random_seed=42):\n",
        "\n",
        "  net = Net(nC, nFeat, nLevels, layersPerLevel, kernelSize, nLinType, bNorm)\n",
        "  optimizer = optim.Adam(net.parameters(), lr=lr)\n",
        "\n",
        "  eta_min = lr * lr_ratio\n",
        "  scheduler = CosineAnnealingLR(optimizer, T_max=numEpoch, eta_min=eta_min)\n",
        "\n",
        "  best_val_corr = 0\n",
        "\n",
        "  # Makes multiple runs comparable\n",
        "  torch.manual_seed(random_seed)\n",
        "  torch.backends.cudnn.deterministic = True\n",
        "  torch.backends.cudnn.benchmark = False\n",
        "\n",
        "  trLosses = []\n",
        "  trAccs = []\n",
        "  valLosses = []\n",
        "  valAccs = []\n",
        "\n",
        "  for epoch in range(numEpoch):\n",
        "\n",
        "    # Call train and val\n",
        "    tr_loss,tr_corr = train(epoch, optimizer, net)\n",
        "    val_loss,val_corr = val(epoch, 10, optimizer, net)\n",
        "\n",
        "    trLosses.append(tr_loss)\n",
        "    trAccs.append(tr_corr)\n",
        "    valLosses.append(val_loss)\n",
        "    valAccs.append(val_corr)\n",
        "\n",
        "    # Step with the scheduler\n",
        "    scheduler.step()\n",
        "\n",
        "    if val_corr > best_val_corr:\n",
        "      best_val_corr = val_corr\n",
        "      torch.save(net, 'model.pt')\n",
        "      print(\"Best model\")\n",
        "\n",
        "  return best_val_corr"
      ],
      "metadata": {
        "id": "52N60M-Czgop"
      },
      "execution_count": 86,
      "outputs": []
    },
    {
      "cell_type": "markdown",
      "metadata": {
        "id": "mjn77cKSYLA0"
      },
      "source": [
        "### Adatbázis letöltése"
      ]
    },
    {
      "cell_type": "code",
      "metadata": {
        "id": "oq9xVES7YLIT",
        "outputId": "1d301251-24ab-4f0d-f059-0d0cab7db60c",
        "colab": {
          "base_uri": "https://localhost:8080/"
        }
      },
      "source": [
        "!wget http://deeplearning.iit.bme.hu/Public/Small.zip --no-check-certificate\n",
        "!unzip -qq Small.zip\n",
        "!rm Small.zip"
      ],
      "execution_count": 69,
      "outputs": [
        {
          "output_type": "stream",
          "name": "stdout",
          "text": [
            "--2024-05-04 14:04:31--  http://deeplearning.iit.bme.hu/Public/Small.zip\n",
            "Resolving deeplearning.iit.bme.hu (deeplearning.iit.bme.hu)... 152.66.243.112\n",
            "Connecting to deeplearning.iit.bme.hu (deeplearning.iit.bme.hu)|152.66.243.112|:80... connected.\n",
            "HTTP request sent, awaiting response... 302 Found\n",
            "Location: https://deeplearning.iit.bme.hu/Public/Small.zip [following]\n",
            "--2024-05-04 14:04:33--  https://deeplearning.iit.bme.hu/Public/Small.zip\n",
            "Connecting to deeplearning.iit.bme.hu (deeplearning.iit.bme.hu)|152.66.243.112|:443... connected.\n",
            "WARNING: cannot verify deeplearning.iit.bme.hu's certificate, issued by ‘CN=GEANT OV RSA CA 4,O=GEANT Vereniging,C=NL’:\n",
            "  Issued certificate has expired.\n",
            "HTTP request sent, awaiting response... 200 OK\n",
            "Length: 7048374 (6.7M) [application/zip]\n",
            "Saving to: ‘Small.zip’\n",
            "\n",
            "Small.zip           100%[===================>]   6.72M  5.20MB/s    in 1.3s    \n",
            "\n",
            "2024-05-04 14:04:34 (5.20 MB/s) - ‘Small.zip’ saved [7048374/7048374]\n",
            "\n",
            "replace Small/Classification/train/0/img1016.png? [y]es, [n]o, [A]ll, [N]one, [r]ename: "
          ]
        }
      ]
    },
    {
      "cell_type": "markdown",
      "metadata": {
        "id": "1krgCry8YLPS"
      },
      "source": [
        "### Progress Bar"
      ]
    },
    {
      "cell_type": "code",
      "metadata": {
        "id": "xmETaz0uYLVe"
      },
      "source": [
        "from IPython.display import HTML, display\n",
        "\n",
        "def progress(value, max=100):\n",
        "    return HTML(\"\"\"\n",
        "        <progress\n",
        "            value='{value}'\n",
        "            max='{max}',\n",
        "            style='width: 100%'\n",
        "        >\n",
        "            {value}\n",
        "        </progress>\n",
        "    \"\"\".format(value=value, max=max))"
      ],
      "execution_count": null,
      "outputs": []
    },
    {
      "cell_type": "markdown",
      "metadata": {
        "id": "m5qRygZGUata"
      },
      "source": [
        "###3. Rész\n",
        "\n",
        "Valósíts meg hiperparaméter optimalizálást a Bayesian Optimization python könyvtár felhasználásával. A könyvtár itt érhető el: https://github.com/fmfn/BayesianOptimization\n",
        "\n",
        "A megoldás során a következőkre ügyelj:\n",
        "\n",
        "\n",
        "1.   A kezdeti random lépések száma legyen kb egyenlő a szabad paraméterek számával (8). A bináris és kategorikus változókat nem érdemes optimalizálni külön, és az epochszámot is érdemes fixen megválasztani.\n",
        "2.   Az teljes lépésszám legyen ennek 4-szerese (32)\n",
        "3.   Mivel a Bayesian Optimization függvény a bináris/diszkrét/integer paramétereket nem támogatja, ezért a folytonos értékek megfelelő konverziója az előző feladatrészben megvalósított függvény feladata. Itt külön figyeljetek arra, hogy vannak olyan változók (pl a szűrők alap száma, vagy a szűrő mérete), amiknek csak bizonyos értékek értelmesek.\n",
        "4.   Az epochok közben menő progress barokat meg kiíratásokat érdemes eltüntetni, a Bayesian opt majd fog írogatni\n",
        "5.   Referenciaként, az adatbázison olyan 94-5% pontosság az elfogadható és 96%+ számít jónak.\n",
        "6.   Ha megvan a végső legjobb paraméter, akkor érdemes azzal egy kicsit hosszabb tanítást lefuttatni.\n",
        "\n",
        "Hogy a paramétereket milyen tartományban akarjátok optimalizálni, azt nektek kellene kitalálni. De a szintek számát és a szűrőméretet érelmetlen 5 fölé, a rétegek számát meg 3 fölé vinni. Az epochszámmal se menjetek 20 fölé, mert így is kb 1 óráig tart egy optimalizálás.\n",
        "\n"
      ]
    },
    {
      "cell_type": "code",
      "metadata": {
        "id": "hlgA34c2VQ0F",
        "outputId": "6f475e4b-4890-4ea0-c86a-b1ccdd6bf92d",
        "colab": {
          "base_uri": "https://localhost:8080/"
        }
      },
      "source": [
        "!pip install bayesian-optimization"
      ],
      "execution_count": 73,
      "outputs": [
        {
          "output_type": "stream",
          "name": "stdout",
          "text": [
            "Requirement already satisfied: bayesian-optimization in /usr/local/lib/python3.10/dist-packages (1.4.3)\n",
            "Requirement already satisfied: numpy>=1.9.0 in /usr/local/lib/python3.10/dist-packages (from bayesian-optimization) (1.25.2)\n",
            "Requirement already satisfied: scipy>=1.0.0 in /usr/local/lib/python3.10/dist-packages (from bayesian-optimization) (1.11.4)\n",
            "Requirement already satisfied: scikit-learn>=0.18.0 in /usr/local/lib/python3.10/dist-packages (from bayesian-optimization) (1.2.2)\n",
            "Requirement already satisfied: colorama>=0.4.6 in /usr/local/lib/python3.10/dist-packages (from bayesian-optimization) (0.4.6)\n",
            "Requirement already satisfied: joblib>=1.1.1 in /usr/local/lib/python3.10/dist-packages (from scikit-learn>=0.18.0->bayesian-optimization) (1.4.0)\n",
            "Requirement already satisfied: threadpoolctl>=2.0.0 in /usr/local/lib/python3.10/dist-packages (from scikit-learn>=0.18.0->bayesian-optimization) (3.5.0)\n"
          ]
        }
      ]
    },
    {
      "cell_type": "code",
      "metadata": {
        "id": "gLQ6xb83YcK8",
        "outputId": "50b8576c-b9e2-4ab2-a53d-d0fa84ab98ff",
        "colab": {
          "base_uri": "https://localhost:8080/",
          "height": 1000
        }
      },
      "source": [
        "from bayes_opt import BayesianOptimization\n",
        "\n",
        "# Define the objective function for Bayesian Optimization\n",
        "def bayesian_optimization(nFeat: int, nLevels: int, layersPerLevel: int, kernelSize: int, bSize, lr: float, decay):\n",
        "    # Fixed hyperparameters\n",
        "    nC = 10  # Number of classes\n",
        "    nLinType = 'relu'\n",
        "    numEpoch = 10  # Number of epochs\n",
        "    kernelSize = int(kernelSize)\n",
        "    nFeat = int(nFeat)\n",
        "    layersPerLevel = int(layersPerLevel)\n",
        "    nLevels = int(nLevels)\n",
        "    bNorm = True\n",
        "\n",
        "    return train_neural_network(nC, nFeat, nLevels, layersPerLevel, kernelSize, nLinType, bNorm, bSize, lr, 0.1, numEpoch, decay)\n",
        "\n",
        "# Set the optimization bounds\n",
        "pbounds = {\n",
        "    'nFeat': (6, 12),\n",
        "    'nLevels': (3, 5),\n",
        "    'layersPerLevel': (1, 3),\n",
        "    'kernelSize': (3, 5),\n",
        "    'bSize': (32, 64),\n",
        "    'lr': (1e-4, 1e-2),\n",
        "    'decay':  (0.0001, 1e-3),\n",
        "}\n",
        "\n",
        "# Initialize Bayesian Optimization\n",
        "opt = BayesianOptimization(f=bayesian_optimization, pbounds=pbounds, random_state=42)\n",
        "\n",
        "# Perform Bayesian Optimization\n",
        "opt.maximize(init_points=8, n_iter=24)\n",
        "\n",
        "# Print the best parameters and corresponding accuracy\n",
        "print(\"Best Parameters:\", opt.max['params'])\n",
        "print(\"Best Accuracy:\", opt.max['target'])"
      ],
      "execution_count": null,
      "outputs": [
        {
          "output_type": "stream",
          "name": "stdout",
          "text": [
            "|   iter    |  target   |   bSize   |   decay   | kernel... | layers... |    lr     |   nFeat   |  nLevels  |\n",
            "-------------------------------------------------------------------------------------------------------------\n"
          ]
        },
        {
          "output_type": "display_data",
          "data": {
            "text/plain": [
              "<IPython.core.display.HTML object>"
            ],
            "text/html": [
              "\n",
              "        <progress\n",
              "            value='20'\n",
              "            max='20',\n",
              "            style='width: 100%'\n",
              "        >\n",
              "            20\n",
              "        </progress>\n",
              "    "
            ]
          },
          "metadata": {}
        },
        {
          "output_type": "stream",
          "name": "stderr",
          "text": [
            "/usr/lib/python3.10/multiprocessing/popen_fork.py:66: RuntimeWarning: os.fork() was called. os.fork() is incompatible with multithreaded code, and JAX is multithreaded, so this will likely lead to a deadlock.\n",
            "  self.pid = os.fork()\n",
            "/usr/lib/python3.10/multiprocessing/popen_fork.py:66: RuntimeWarning: os.fork() was called. os.fork() is incompatible with multithreaded code, and JAX is multithreaded, so this will likely lead to a deadlock.\n",
            "  self.pid = os.fork()\n"
          ]
        },
        {
          "output_type": "stream",
          "name": "stdout",
          "text": [
            "Epoch [1] Training Loss: 1.5974 Training Pixel Acc: 0.59\n"
          ]
        },
        {
          "output_type": "display_data",
          "data": {
            "text/plain": [
              "<IPython.core.display.HTML object>"
            ],
            "text/html": [
              "\n",
              "        <progress\n",
              "            value='0'\n",
              "            max='20',\n",
              "            style='width: 100%'\n",
              "        >\n",
              "            0\n",
              "        </progress>\n",
              "    "
            ]
          },
          "metadata": {}
        },
        {
          "output_type": "stream",
          "name": "stdout",
          "text": [
            "Best model\n"
          ]
        },
        {
          "output_type": "display_data",
          "data": {
            "text/plain": [
              "<IPython.core.display.HTML object>"
            ],
            "text/html": [
              "\n",
              "        <progress\n",
              "            value='20'\n",
              "            max='20',\n",
              "            style='width: 100%'\n",
              "        >\n",
              "            20\n",
              "        </progress>\n",
              "    "
            ]
          },
          "metadata": {}
        },
        {
          "output_type": "stream",
          "name": "stdout",
          "text": [
            "Epoch [2] Training Loss: 0.9024 Training Pixel Acc: 0.80\n"
          ]
        },
        {
          "output_type": "display_data",
          "data": {
            "text/plain": [
              "<IPython.core.display.HTML object>"
            ],
            "text/html": [
              "\n",
              "        <progress\n",
              "            value='0'\n",
              "            max='20',\n",
              "            style='width: 100%'\n",
              "        >\n",
              "            0\n",
              "        </progress>\n",
              "    "
            ]
          },
          "metadata": {}
        },
        {
          "output_type": "stream",
          "name": "stdout",
          "text": [
            "Best model\n"
          ]
        },
        {
          "output_type": "display_data",
          "data": {
            "text/plain": [
              "<IPython.core.display.HTML object>"
            ],
            "text/html": [
              "\n",
              "        <progress\n",
              "            value='20'\n",
              "            max='20',\n",
              "            style='width: 100%'\n",
              "        >\n",
              "            20\n",
              "        </progress>\n",
              "    "
            ]
          },
          "metadata": {}
        },
        {
          "output_type": "stream",
          "name": "stdout",
          "text": [
            "Epoch [3] Training Loss: 0.6337 Training Pixel Acc: 0.85\n"
          ]
        },
        {
          "output_type": "display_data",
          "data": {
            "text/plain": [
              "<IPython.core.display.HTML object>"
            ],
            "text/html": [
              "\n",
              "        <progress\n",
              "            value='0'\n",
              "            max='20',\n",
              "            style='width: 100%'\n",
              "        >\n",
              "            0\n",
              "        </progress>\n",
              "    "
            ]
          },
          "metadata": {}
        },
        {
          "output_type": "display_data",
          "data": {
            "text/plain": [
              "<IPython.core.display.HTML object>"
            ],
            "text/html": [
              "\n",
              "        <progress\n",
              "            value='20'\n",
              "            max='20',\n",
              "            style='width: 100%'\n",
              "        >\n",
              "            20\n",
              "        </progress>\n",
              "    "
            ]
          },
          "metadata": {}
        },
        {
          "output_type": "stream",
          "name": "stdout",
          "text": [
            "Epoch [4] Training Loss: 0.4822 Training Pixel Acc: 0.88\n"
          ]
        },
        {
          "output_type": "display_data",
          "data": {
            "text/plain": [
              "<IPython.core.display.HTML object>"
            ],
            "text/html": [
              "\n",
              "        <progress\n",
              "            value='0'\n",
              "            max='20',\n",
              "            style='width: 100%'\n",
              "        >\n",
              "            0\n",
              "        </progress>\n",
              "    "
            ]
          },
          "metadata": {}
        },
        {
          "output_type": "stream",
          "name": "stdout",
          "text": [
            "Best model\n"
          ]
        },
        {
          "output_type": "display_data",
          "data": {
            "text/plain": [
              "<IPython.core.display.HTML object>"
            ],
            "text/html": [
              "\n",
              "        <progress\n",
              "            value='20'\n",
              "            max='20',\n",
              "            style='width: 100%'\n",
              "        >\n",
              "            20\n",
              "        </progress>\n",
              "    "
            ]
          },
          "metadata": {}
        },
        {
          "output_type": "stream",
          "name": "stdout",
          "text": [
            "Epoch [5] Training Loss: 0.3962 Training Pixel Acc: 0.90\n"
          ]
        },
        {
          "output_type": "display_data",
          "data": {
            "text/plain": [
              "<IPython.core.display.HTML object>"
            ],
            "text/html": [
              "\n",
              "        <progress\n",
              "            value='0'\n",
              "            max='20',\n",
              "            style='width: 100%'\n",
              "        >\n",
              "            0\n",
              "        </progress>\n",
              "    "
            ]
          },
          "metadata": {}
        },
        {
          "output_type": "stream",
          "name": "stdout",
          "text": [
            "Best model\n"
          ]
        },
        {
          "output_type": "display_data",
          "data": {
            "text/plain": [
              "<IPython.core.display.HTML object>"
            ],
            "text/html": [
              "\n",
              "        <progress\n",
              "            value='20'\n",
              "            max='20',\n",
              "            style='width: 100%'\n",
              "        >\n",
              "            20\n",
              "        </progress>\n",
              "    "
            ]
          },
          "metadata": {}
        },
        {
          "output_type": "stream",
          "name": "stdout",
          "text": [
            "Epoch [6] Training Loss: 0.3431 Training Pixel Acc: 0.92\n"
          ]
        },
        {
          "output_type": "display_data",
          "data": {
            "text/plain": [
              "<IPython.core.display.HTML object>"
            ],
            "text/html": [
              "\n",
              "        <progress\n",
              "            value='0'\n",
              "            max='20',\n",
              "            style='width: 100%'\n",
              "        >\n",
              "            0\n",
              "        </progress>\n",
              "    "
            ]
          },
          "metadata": {}
        },
        {
          "output_type": "stream",
          "name": "stdout",
          "text": [
            "Best model\n"
          ]
        },
        {
          "output_type": "display_data",
          "data": {
            "text/plain": [
              "<IPython.core.display.HTML object>"
            ],
            "text/html": [
              "\n",
              "        <progress\n",
              "            value='20'\n",
              "            max='20',\n",
              "            style='width: 100%'\n",
              "        >\n",
              "            20\n",
              "        </progress>\n",
              "    "
            ]
          },
          "metadata": {}
        },
        {
          "output_type": "stream",
          "name": "stdout",
          "text": [
            "Epoch [7] Training Loss: 0.3058 Training Pixel Acc: 0.91\n"
          ]
        },
        {
          "output_type": "display_data",
          "data": {
            "text/plain": [
              "<IPython.core.display.HTML object>"
            ],
            "text/html": [
              "\n",
              "        <progress\n",
              "            value='0'\n",
              "            max='20',\n",
              "            style='width: 100%'\n",
              "        >\n",
              "            0\n",
              "        </progress>\n",
              "    "
            ]
          },
          "metadata": {}
        },
        {
          "output_type": "display_data",
          "data": {
            "text/plain": [
              "<IPython.core.display.HTML object>"
            ],
            "text/html": [
              "\n",
              "        <progress\n",
              "            value='20'\n",
              "            max='20',\n",
              "            style='width: 100%'\n",
              "        >\n",
              "            20\n",
              "        </progress>\n",
              "    "
            ]
          },
          "metadata": {}
        },
        {
          "output_type": "stream",
          "name": "stdout",
          "text": [
            "Epoch [8] Training Loss: 0.2633 Training Pixel Acc: 0.93\n"
          ]
        },
        {
          "output_type": "display_data",
          "data": {
            "text/plain": [
              "<IPython.core.display.HTML object>"
            ],
            "text/html": [
              "\n",
              "        <progress\n",
              "            value='0'\n",
              "            max='20',\n",
              "            style='width: 100%'\n",
              "        >\n",
              "            0\n",
              "        </progress>\n",
              "    "
            ]
          },
          "metadata": {}
        },
        {
          "output_type": "stream",
          "name": "stdout",
          "text": [
            "Best model\n"
          ]
        },
        {
          "output_type": "display_data",
          "data": {
            "text/plain": [
              "<IPython.core.display.HTML object>"
            ],
            "text/html": [
              "\n",
              "        <progress\n",
              "            value='20'\n",
              "            max='20',\n",
              "            style='width: 100%'\n",
              "        >\n",
              "            20\n",
              "        </progress>\n",
              "    "
            ]
          },
          "metadata": {}
        },
        {
          "output_type": "stream",
          "name": "stdout",
          "text": [
            "Epoch [9] Training Loss: 0.2538 Training Pixel Acc: 0.94\n"
          ]
        },
        {
          "output_type": "display_data",
          "data": {
            "text/plain": [
              "<IPython.core.display.HTML object>"
            ],
            "text/html": [
              "\n",
              "        <progress\n",
              "            value='0'\n",
              "            max='20',\n",
              "            style='width: 100%'\n",
              "        >\n",
              "            0\n",
              "        </progress>\n",
              "    "
            ]
          },
          "metadata": {}
        },
        {
          "output_type": "display_data",
          "data": {
            "text/plain": [
              "<IPython.core.display.HTML object>"
            ],
            "text/html": [
              "\n",
              "        <progress\n",
              "            value='20'\n",
              "            max='20',\n",
              "            style='width: 100%'\n",
              "        >\n",
              "            20\n",
              "        </progress>\n",
              "    "
            ]
          },
          "metadata": {}
        },
        {
          "output_type": "stream",
          "name": "stdout",
          "text": [
            "Epoch [10] Training Loss: 0.2287 Training Pixel Acc: 0.94\n"
          ]
        },
        {
          "output_type": "display_data",
          "data": {
            "text/plain": [
              "<IPython.core.display.HTML object>"
            ],
            "text/html": [
              "\n",
              "        <progress\n",
              "            value='0'\n",
              "            max='20',\n",
              "            style='width: 100%'\n",
              "        >\n",
              "            0\n",
              "        </progress>\n",
              "    "
            ]
          },
          "metadata": {}
        },
        {
          "output_type": "stream",
          "name": "stdout",
          "text": [
            "| \u001b[0m1        \u001b[0m | \u001b[0m96.09    \u001b[0m | \u001b[0m43.99    \u001b[0m | \u001b[0m0.0009556\u001b[0m | \u001b[0m4.464    \u001b[0m | \u001b[0m2.197    \u001b[0m | \u001b[0m0.001645 \u001b[0m | \u001b[0m6.936    \u001b[0m | \u001b[0m3.116    \u001b[0m |\n"
          ]
        },
        {
          "output_type": "display_data",
          "data": {
            "text/plain": [
              "<IPython.core.display.HTML object>"
            ],
            "text/html": [
              "\n",
              "        <progress\n",
              "            value='20'\n",
              "            max='20',\n",
              "            style='width: 100%'\n",
              "        >\n",
              "            20\n",
              "        </progress>\n",
              "    "
            ]
          },
          "metadata": {}
        },
        {
          "output_type": "stream",
          "name": "stdout",
          "text": [
            "Epoch [1] Training Loss: 1.2158 Training Pixel Acc: 0.53\n"
          ]
        },
        {
          "output_type": "display_data",
          "data": {
            "text/plain": [
              "<IPython.core.display.HTML object>"
            ],
            "text/html": [
              "\n",
              "        <progress\n",
              "            value='0'\n",
              "            max='20',\n",
              "            style='width: 100%'\n",
              "        >\n",
              "            0\n",
              "        </progress>\n",
              "    "
            ]
          },
          "metadata": {}
        },
        {
          "output_type": "stream",
          "name": "stdout",
          "text": [
            "Best model\n"
          ]
        },
        {
          "output_type": "display_data",
          "data": {
            "text/plain": [
              "<IPython.core.display.HTML object>"
            ],
            "text/html": [
              "\n",
              "        <progress\n",
              "            value='20'\n",
              "            max='20',\n",
              "            style='width: 100%'\n",
              "        >\n",
              "            20\n",
              "        </progress>\n",
              "    "
            ]
          },
          "metadata": {}
        },
        {
          "output_type": "stream",
          "name": "stdout",
          "text": [
            "Epoch [2] Training Loss: 0.6468 Training Pixel Acc: 0.75\n"
          ]
        },
        {
          "output_type": "display_data",
          "data": {
            "text/plain": [
              "<IPython.core.display.HTML object>"
            ],
            "text/html": [
              "\n",
              "        <progress\n",
              "            value='0'\n",
              "            max='20',\n",
              "            style='width: 100%'\n",
              "        >\n",
              "            0\n",
              "        </progress>\n",
              "    "
            ]
          },
          "metadata": {}
        },
        {
          "output_type": "stream",
          "name": "stdout",
          "text": [
            "Best model\n"
          ]
        },
        {
          "output_type": "display_data",
          "data": {
            "text/plain": [
              "<IPython.core.display.HTML object>"
            ],
            "text/html": [
              "\n",
              "        <progress\n",
              "            value='20'\n",
              "            max='20',\n",
              "            style='width: 100%'\n",
              "        >\n",
              "            20\n",
              "        </progress>\n",
              "    "
            ]
          },
          "metadata": {}
        },
        {
          "output_type": "stream",
          "name": "stdout",
          "text": [
            "Epoch [3] Training Loss: 0.5319 Training Pixel Acc: 0.79\n"
          ]
        },
        {
          "output_type": "display_data",
          "data": {
            "text/plain": [
              "<IPython.core.display.HTML object>"
            ],
            "text/html": [
              "\n",
              "        <progress\n",
              "            value='0'\n",
              "            max='20',\n",
              "            style='width: 100%'\n",
              "        >\n",
              "            0\n",
              "        </progress>\n",
              "    "
            ]
          },
          "metadata": {}
        },
        {
          "output_type": "display_data",
          "data": {
            "text/plain": [
              "<IPython.core.display.HTML object>"
            ],
            "text/html": [
              "\n",
              "        <progress\n",
              "            value='20'\n",
              "            max='20',\n",
              "            style='width: 100%'\n",
              "        >\n",
              "            20\n",
              "        </progress>\n",
              "    "
            ]
          },
          "metadata": {}
        },
        {
          "output_type": "stream",
          "name": "stdout",
          "text": [
            "Epoch [4] Training Loss: 0.4794 Training Pixel Acc: 0.82\n"
          ]
        },
        {
          "output_type": "display_data",
          "data": {
            "text/plain": [
              "<IPython.core.display.HTML object>"
            ],
            "text/html": [
              "\n",
              "        <progress\n",
              "            value='0'\n",
              "            max='20',\n",
              "            style='width: 100%'\n",
              "        >\n",
              "            0\n",
              "        </progress>\n",
              "    "
            ]
          },
          "metadata": {}
        },
        {
          "output_type": "stream",
          "name": "stdout",
          "text": [
            "Best model\n"
          ]
        },
        {
          "output_type": "display_data",
          "data": {
            "text/plain": [
              "<IPython.core.display.HTML object>"
            ],
            "text/html": [
              "\n",
              "        <progress\n",
              "            value='20'\n",
              "            max='20',\n",
              "            style='width: 100%'\n",
              "        >\n",
              "            20\n",
              "        </progress>\n",
              "    "
            ]
          },
          "metadata": {}
        },
        {
          "output_type": "stream",
          "name": "stdout",
          "text": [
            "Epoch [5] Training Loss: 0.3888 Training Pixel Acc: 0.86\n"
          ]
        },
        {
          "output_type": "display_data",
          "data": {
            "text/plain": [
              "<IPython.core.display.HTML object>"
            ],
            "text/html": [
              "\n",
              "        <progress\n",
              "            value='0'\n",
              "            max='20',\n",
              "            style='width: 100%'\n",
              "        >\n",
              "            0\n",
              "        </progress>\n",
              "    "
            ]
          },
          "metadata": {}
        },
        {
          "output_type": "display_data",
          "data": {
            "text/plain": [
              "<IPython.core.display.HTML object>"
            ],
            "text/html": [
              "\n",
              "        <progress\n",
              "            value='20'\n",
              "            max='20',\n",
              "            style='width: 100%'\n",
              "        >\n",
              "            20\n",
              "        </progress>\n",
              "    "
            ]
          },
          "metadata": {}
        },
        {
          "output_type": "stream",
          "name": "stdout",
          "text": [
            "Epoch [6] Training Loss: 0.3468 Training Pixel Acc: 0.88\n"
          ]
        },
        {
          "output_type": "display_data",
          "data": {
            "text/plain": [
              "<IPython.core.display.HTML object>"
            ],
            "text/html": [
              "\n",
              "        <progress\n",
              "            value='0'\n",
              "            max='20',\n",
              "            style='width: 100%'\n",
              "        >\n",
              "            0\n",
              "        </progress>\n",
              "    "
            ]
          },
          "metadata": {}
        }
      ]
    }
  ]
}